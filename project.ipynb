{
  "nbformat": 4,
  "nbformat_minor": 0,
  "metadata": {
    "colab": {
      "provenance": []
    },
    "kernelspec": {
      "name": "python3",
      "display_name": "Python 3"
    },
    "language_info": {
      "name": "python"
    }
  },
  "cells": [
    {
      "cell_type": "code",
      "execution_count": null,
      "metadata": {
        "id": "_ZKxqO1oBy_u"
      },
      "outputs": [],
      "source": [
        "import pandas as pd\n",
        "from sklearn import preprocessing\n",
        "from sklearn.model_selection import train_test_split\n",
        "from sklearn.feature_selection import SelectKBest\n",
        "from sklearn.feature_selection import chi2\n",
        "from sklearn.ensemble import GradientBoostingClassifier\n",
        "from sklearn.preprocessing import LabelEncoder"
      ]
    },
    {
      "cell_type": "code",
      "source": [
        "dataframe=pd.read_csv(\"/content/Stroke data.csv\")\n",
        "print(\"----------------------------------------------------\")\n",
        "print(\"Data Selection                 \")\n",
        "print(\"----------------------------------------------------\")\n",
        "print()\n",
        "print(dataframe.head(15))\n"
      ],
      "metadata": {
        "colab": {
          "base_uri": "https://localhost:8080/"
        },
        "id": "Rvx_78X9CTRf",
        "outputId": "f32d423b-3dc7-4346-bc7c-536bc9a7815b"
      },
      "execution_count": null,
      "outputs": [
        {
          "output_type": "stream",
          "name": "stdout",
          "text": [
            "----------------------------------------------------\n",
            "Data Selection                 \n",
            "----------------------------------------------------\n",
            "\n",
            "       id  gender   age  hypertension  heart_disease ever_married  \\\n",
            "0    9046    Male  67.0             0              1          Yes   \n",
            "1   51676  Female  61.0             0              0          Yes   \n",
            "2   31112    Male  80.0             0              1          Yes   \n",
            "3   60182  Female  49.0             0              0          Yes   \n",
            "4    1665  Female  79.0             1              0          Yes   \n",
            "5   56669    Male  81.0             0              0          Yes   \n",
            "6   53882    Male  74.0             1              1          Yes   \n",
            "7   10434  Female  69.0             0              0           No   \n",
            "8   27419  Female  59.0             0              0          Yes   \n",
            "9   60491  Female  78.0             0              0          Yes   \n",
            "10  12109  Female  81.0             1              0          Yes   \n",
            "11  12095  Female  61.0             0              1          Yes   \n",
            "12  12175  Female  54.0             0              0          Yes   \n",
            "13   8213    Male  78.0             0              1          Yes   \n",
            "14   5317  Female  79.0             0              1          Yes   \n",
            "\n",
            "        work_type Residence_type  avg_glucose_level   bmi   smoking_status  \\\n",
            "0         Private          Urban             228.69  36.6  formerly smoked   \n",
            "1   Self-employed          Rural             202.21   NaN     never smoked   \n",
            "2         Private          Rural             105.92  32.5     never smoked   \n",
            "3         Private          Urban             171.23  34.4           smokes   \n",
            "4   Self-employed          Rural             174.12  24.0     never smoked   \n",
            "5         Private          Urban             186.21  29.0  formerly smoked   \n",
            "6         Private          Rural              70.09  27.4     never smoked   \n",
            "7         Private          Urban              94.39  22.8     never smoked   \n",
            "8         Private          Rural              76.15   NaN          Unknown   \n",
            "9         Private          Urban              58.57  24.2          Unknown   \n",
            "10        Private          Rural              80.43  29.7     never smoked   \n",
            "11       Govt_job          Rural             120.46  36.8           smokes   \n",
            "12        Private          Urban             104.51  27.3           smokes   \n",
            "13        Private          Urban             219.84   NaN          Unknown   \n",
            "14        Private          Urban             214.09  28.2     never smoked   \n",
            "\n",
            "    stroke  \n",
            "0        1  \n",
            "1        1  \n",
            "2        1  \n",
            "3        1  \n",
            "4        1  \n",
            "5        1  \n",
            "6        1  \n",
            "7        1  \n",
            "8        1  \n",
            "9        1  \n",
            "10       1  \n",
            "11       1  \n",
            "12       1  \n",
            "13       1  \n",
            "14       1  \n"
          ]
        }
      ]
    },
    {
      "cell_type": "code",
      "source": [
        "print()\n",
        "print(\"----------------------------------------------------\")\n",
        "print(\"Before Handling Missing values             \")\n",
        "print(\"----------------------------------------------------\")\n",
        "print()\n",
        "print(dataframe.isnull().sum())\n",
        "\n",
        "print()\n",
        "print(\"----------------------------------------------------\")\n",
        "print(\" After Handling Missing Values             \")\n",
        "print(\"----------------------------------------------------\")\n",
        "print()\n",
        "dataframe=dataframe.fillna(0)\n",
        "print(dataframe.isnull().sum())"
      ],
      "metadata": {
        "colab": {
          "base_uri": "https://localhost:8080/"
        },
        "id": "Jj7M42bSCtWB",
        "outputId": "fa61f232-15c6-4bb0-8a57-182fc1b90127"
      },
      "execution_count": null,
      "outputs": [
        {
          "output_type": "stream",
          "name": "stdout",
          "text": [
            "\n",
            "----------------------------------------------------\n",
            "Before Handling Missing values             \n",
            "----------------------------------------------------\n",
            "\n",
            "id                     0\n",
            "gender                 0\n",
            "age                    0\n",
            "hypertension           0\n",
            "heart_disease          0\n",
            "ever_married           0\n",
            "work_type              0\n",
            "Residence_type         0\n",
            "avg_glucose_level      0\n",
            "bmi                  201\n",
            "smoking_status         0\n",
            "stroke                 0\n",
            "dtype: int64\n",
            "\n",
            "----------------------------------------------------\n",
            " After Handling Missing Values             \n",
            "----------------------------------------------------\n",
            "\n",
            "id                   0\n",
            "gender               0\n",
            "age                  0\n",
            "hypertension         0\n",
            "heart_disease        0\n",
            "ever_married         0\n",
            "work_type            0\n",
            "Residence_type       0\n",
            "avg_glucose_level    0\n",
            "bmi                  0\n",
            "smoking_status       0\n",
            "stroke               0\n",
            "dtype: int64\n"
          ]
        }
      ]
    },
    {
      "cell_type": "code",
      "source": [
        "print()\n",
        "print(\"----------------------------------------------------\")\n",
        "print(\"Before Label Encoding                 \")\n",
        "print(\"----------------------------------------------------\")\n",
        "print()\n",
        "print(dataframe['gender'].head(10))\n",
        "\n",
        "print()\n",
        "print(\"----------------------------------------------------\")\n",
        "print(\"After Label Encoding                  \")\n",
        "print(\"----------------------------------------------------\")\n",
        "print()\n",
        "label_encoder = preprocessing.LabelEncoder()\n",
        "dataframe['gender']= label_encoder.fit_transform(dataframe['gender'])\n",
        "\n",
        "print(dataframe['gender'].head(10))\n",
        "\n",
        "Label=['ever_married','work_type','Residence_type','smoking_status']\n",
        "\n",
        "dataframe[Label] = dataframe[Label].apply(label_encoder.fit_transform)"
      ],
      "metadata": {
        "colab": {
          "base_uri": "https://localhost:8080/"
        },
        "id": "lVStJiPuCzGU",
        "outputId": "c53d7ab0-ae63-4aba-b881-ea07700a961b"
      },
      "execution_count": null,
      "outputs": [
        {
          "output_type": "stream",
          "name": "stdout",
          "text": [
            "\n",
            "----------------------------------------------------\n",
            "Before Label Encoding                 \n",
            "----------------------------------------------------\n",
            "\n",
            "0      Male\n",
            "1    Female\n",
            "2      Male\n",
            "3    Female\n",
            "4    Female\n",
            "5      Male\n",
            "6      Male\n",
            "7    Female\n",
            "8    Female\n",
            "9    Female\n",
            "Name: gender, dtype: object\n",
            "\n",
            "----------------------------------------------------\n",
            "After Label Encoding                  \n",
            "----------------------------------------------------\n",
            "\n",
            "0    1\n",
            "1    0\n",
            "2    1\n",
            "3    0\n",
            "4    0\n",
            "5    1\n",
            "6    1\n",
            "7    0\n",
            "8    0\n",
            "9    0\n",
            "Name: gender, dtype: int64\n"
          ]
        }
      ]
    },
    {
      "cell_type": "code",
      "source": [
        "X=dataframe.drop(['stroke'],axis=1)\n",
        "y=dataframe['stroke']\n",
        "\n",
        "chi_squ = SelectKBest(chi2,k=10)\n",
        "\n",
        "best_fea= chi_squ.fit_transform(X, y)\n",
        "\n",
        "print()\n",
        "print(\"----------------------------------------------------\")\n",
        "print(\"Feature Selection ---> Chi square                 \")\n",
        "print(\"----------------------------------------------------\")\n",
        "print()\n",
        "print(\"Total no of original Features :\",X.shape[1])\n",
        "print()\n",
        "print(\"Total no of reduced Features  :\",best_fea.shape[1])\n",
        "print()\n",
        "\n",
        "\n",
        "\n"
      ],
      "metadata": {
        "colab": {
          "base_uri": "https://localhost:8080/"
        },
        "id": "zQjSCP_jEiNR",
        "outputId": "f467b840-0e81-4aa0-d858-4c37f4ab8e8a"
      },
      "execution_count": null,
      "outputs": [
        {
          "output_type": "stream",
          "name": "stdout",
          "text": [
            "\n",
            "----------------------------------------------------\n",
            "Feature Selection ---> Chi square                 \n",
            "----------------------------------------------------\n",
            "\n",
            "Total no of original Features : 11\n",
            "\n",
            "Total no of reduced Features  : 10\n",
            "\n"
          ]
        }
      ]
    },
    {
      "cell_type": "code",
      "source": [
        "#========================== DATA SPLITTING ===========================\n",
        "\n",
        "\n",
        "X_train, X_test, y_train, y_test = train_test_split(best_fea, y, test_size=0.2, random_state=0)\n",
        "\n",
        "print()\n",
        "print(\"----------------------------------------------------\")\n",
        "print(\"Data Splitting                    \")\n",
        "print(\"----------------------------------------------------\")\n",
        "print()\n",
        "\n",
        "print(\"Total no of data        :\",dataframe.shape[0])\n",
        "print(\"Total no of test data   :\",X_test.shape[0])\n",
        "print(\"Total no of train data  :\",X_train.shape[0])"
      ],
      "metadata": {
        "colab": {
          "base_uri": "https://localhost:8080/"
        },
        "id": "rhvSnr4REu2m",
        "outputId": "21e7cd57-13ce-420e-8f30-f3c32b1bc6b4"
      },
      "execution_count": null,
      "outputs": [
        {
          "output_type": "stream",
          "name": "stdout",
          "text": [
            "\n",
            "----------------------------------------------------\n",
            "Data Splitting                    \n",
            "----------------------------------------------------\n",
            "\n",
            "Total no of data        : 5110\n",
            "Total no of test data   : 1022\n",
            "Total no of train data  : 4088\n"
          ]
        }
      ]
    },
    {
      "cell_type": "code",
      "source": [
        "from sklearn.ensemble import RandomForestClassifier\n",
        "\n",
        "rf = RandomForestClassifier(n_estimators=20, random_state=0)\n",
        "\n",
        "rf.fit(X_train, y_train)\n",
        "\n",
        "pred_rf=rf.predict(X_test)\n",
        "\n",
        "\n",
        "from sklearn import metrics\n",
        "\n",
        "acc_rf=metrics.accuracy_score(y_test,pred_rf)*100\n",
        "print(\"Random Forest\")\n",
        "\n",
        "print(\"1. Accuracy =\", acc_rf,'%')\n",
        "print()\n",
        "print(\"2. Classification Report:\")\n",
        "print()\n",
        "print(metrics.classification_report(y_test,pred_rf))\n",
        "\n",
        "\n",
        "from sklearn.neural_network import MLPClassifier\n",
        "\n",
        "mlp = MLPClassifier(hidden_layer_sizes=(150,100,50), max_iter=300,activation = 'relu',solver='adam',random_state=1)\n",
        "\n",
        "\n",
        "mlp.fit(X_train, y_train)\n",
        "\n",
        "pred_mlp=mlp.predict(X_test)\n",
        "\n",
        "acc_mlp=metrics.accuracy_score(y_test,pred_mlp)*100\n",
        "print(\"Multi Layer Perceptron\")\n",
        "\n",
        "\n",
        "print(\"1. Accuracy =\", acc_mlp,'%')\n",
        "print()\n",
        "print(\"2. Classification Report:\")\n",
        "print()\n",
        "print(metrics.classification_report(y_test,pred_rf))\n",
        "\n",
        "gb=GradientBoostingClassifier(n_estimators=1000, random_state=0)\n",
        "gb.fit(X_train, y_train)\n",
        "\n",
        "pred_gb=gb.predict(X_test)\n",
        "\n",
        "\n",
        "from sklearn import metrics\n",
        "\n",
        "acc_gb=metrics.accuracy_score(y_test,pred_rf)*100\n",
        "print(\"Gradient Boosting\")\n",
        "\n",
        "print(\"1. Accuracy =\", acc_gb,'%')\n",
        "print()\n",
        "print(\"2. Classification Report:\")\n",
        "print()\n",
        "print(metrics.classification_report(y_test,pred_gb))\n"
      ],
      "metadata": {
        "colab": {
          "base_uri": "https://localhost:8080/"
        },
        "id": "P9-UgUaNGfeP",
        "outputId": "085e727f-b796-47fc-eeaf-6eb83a3505e8"
      },
      "execution_count": null,
      "outputs": [
        {
          "output_type": "stream",
          "name": "stdout",
          "text": [
            "Random Forest\n",
            "1. Accuracy = 94.9119373776908 %\n",
            "\n",
            "2. Classification Report:\n",
            "\n",
            "              precision    recall  f1-score   support\n",
            "\n",
            "           0       0.95      1.00      0.97       968\n",
            "           1       0.75      0.06      0.10        54\n",
            "\n",
            "    accuracy                           0.95      1022\n",
            "   macro avg       0.85      0.53      0.54      1022\n",
            "weighted avg       0.94      0.95      0.93      1022\n",
            "\n",
            "Multi Layer Perceptron\n",
            "1. Accuracy = 94.71624266144813 %\n",
            "\n",
            "2. Classification Report:\n",
            "\n",
            "              precision    recall  f1-score   support\n",
            "\n",
            "           0       0.95      1.00      0.97       968\n",
            "           1       0.75      0.06      0.10        54\n",
            "\n",
            "    accuracy                           0.95      1022\n",
            "   macro avg       0.85      0.53      0.54      1022\n",
            "weighted avg       0.94      0.95      0.93      1022\n",
            "\n",
            "Gradient Boosting\n",
            "1. Accuracy = 94.9119373776908 %\n",
            "\n",
            "2. Classification Report:\n",
            "\n",
            "              precision    recall  f1-score   support\n",
            "\n",
            "           0       0.95      0.99      0.97       968\n",
            "           1       0.41      0.13      0.20        54\n",
            "\n",
            "    accuracy                           0.94      1022\n",
            "   macro avg       0.68      0.56      0.58      1022\n",
            "weighted avg       0.92      0.94      0.93      1022\n",
            "\n"
          ]
        }
      ]
    },
    {
      "cell_type": "code",
      "source": [
        "print(\"----------------------------------------------------\")\n",
        "print(\"Stroke Prediction         \")\n",
        "print(\"----------------------------------------------------\")\n",
        "print()\n",
        "import numpy as np\n",
        "data12=np.array([62980,99,1,0,1,1,0,78.26,41.7,1]).reshape(1,-1)\n",
        "\n",
        "predictions=mlp.predict(data12)\n",
        "print(predictions)\n",
        "\n",
        "print(\"-----Prediction---\")\n",
        "\n",
        "if(predictions==0):\n",
        "    print(data12[0][0],\"The Patient is not affected by Stroke\")\n",
        "if(predictions==1):\n",
        "    print(data12[0][0],\"The Patient is  affected by Stroke\")\n",
        "data12=np.array([17752,76,0,1,1,2,1,79.05,0,0]).reshape(1,-1)\n",
        "\n",
        "predictions=rf.predict(data12)\n",
        "print(predictions)\n",
        "\n",
        "print(\"-----Prediction---\")\n",
        "\n",
        "if(predictions==0):\n",
        "    print(data12[0][0],\"The Patient is not affected by Stroke\")\n",
        "if(predictions==1):\n",
        "    print(data12[0][0],\"The Patient is  affected by Stroke\")\n",
        "\n",
        "data12=np.array([23145,67,1,1,1,2,1,80.6,1,1]).reshape(1,-1)\n",
        "\n",
        "predictions=gb.predict(data12)\n",
        "print(predictions)\n",
        "\n",
        "print(\"-----Prediction---\")\n",
        "\n",
        "if(predictions==0):\n",
        "    print(data12[0][0],\"The Patient is not affected by Stroke\")\n",
        "if(predictions==1):\n",
        "    print(data12[0][0],\"The Patient is  affected by Stroke\")"
      ],
      "metadata": {
        "colab": {
          "base_uri": "https://localhost:8080/"
        },
        "id": "ym4mLl5vK6Z8",
        "outputId": "dc4574eb-0420-489e-c0d6-992c3f080ed5"
      },
      "execution_count": null,
      "outputs": [
        {
          "output_type": "stream",
          "name": "stdout",
          "text": [
            "----------------------------------------------------\n",
            "Stroke Prediction         \n",
            "----------------------------------------------------\n",
            "\n",
            "[0]\n",
            "-----Prediction---\n",
            "62980.0 The Patient is not affected by Stroke\n",
            "[1]\n",
            "-----Prediction---\n",
            "17752.0 The Patient is  affected by Stroke\n",
            "[0]\n",
            "-----Prediction---\n",
            "23145.0 The Patient is not affected by Stroke\n"
          ]
        }
      ]
    },
    {
      "cell_type": "code",
      "source": [
        "print()\n",
        "print(\"------------------------------------------------------------\")\n",
        "print()\n",
        "\n",
        "\n",
        "import matplotlib.pyplot as plt\n",
        "vals=[acc_rf,acc_mlp,acc_gb]\n",
        "inds=range(len(vals))\n",
        "labels=[\"RF\",\"MLP\",\"GBT\"]\n",
        "fig,ax = plt.subplots()\n",
        "rects = ax.bar(inds, vals)\n",
        "ax.set_xticks([ind for ind in inds])\n",
        "ax.set_xticklabels(labels)\n",
        "plt.title('RF vs MLP vs GBT')\n",
        "plt.show()"
      ],
      "metadata": {
        "colab": {
          "base_uri": "https://localhost:8080/",
          "height": 504
        },
        "id": "rDp9-hETMvvo",
        "outputId": "5617fb35-4117-4bf8-da4f-cdf01c23f29b"
      },
      "execution_count": null,
      "outputs": [
        {
          "output_type": "stream",
          "name": "stdout",
          "text": [
            "\n",
            "------------------------------------------------------------\n",
            "\n"
          ]
        },
        {
          "output_type": "display_data",
          "data": {
            "text/plain": [
              "<Figure size 640x480 with 1 Axes>"
            ],
            "image/png": "[encoded data removed]"
          },
          "metadata": {}
        }
      ]
    }
  ]
}